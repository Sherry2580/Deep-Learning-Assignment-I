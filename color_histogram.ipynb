{
 "cells": [
  {
   "cell_type": "code",
   "execution_count": 1,
   "id": "f4b1f5ef-3cff-49b1-ba57-57ce6a27f080",
   "metadata": {},
   "outputs": [],
   "source": [
    "#import zipfile\n",
    "#zip = zipfile.ZipFile('/home/blueee/DL_Homework_1.zip')\n",
    "#zip.extractall(path='/home/blueee/DL_Homework_1/')\n",
    "#zip.close()"
   ]
  },
  {
   "cell_type": "code",
   "execution_count": 2,
   "id": "8f7ccecf-a7cf-4fc0-8f28-1bfcf8a7a588",
   "metadata": {},
   "outputs": [],
   "source": [
    "import os\n",
    "import cv2\n",
    "import numpy as np\n",
    "from sklearn.svm import LinearSVC\n",
    "from sklearn.metrics import accuracy_score, f1_score\n",
    "\n",
    "def resize_with_aspect_ratio(image, target_size):\n",
    "    height, width = image.shape[:2]\n",
    "    target_width, target_height = target_size\n",
    "    width_ratio = target_width / width\n",
    "    height_ratio = target_height / height\n",
    "    ratio = min(width_ratio, height_ratio)\n",
    "    resized_image = cv2.resize(image, (int(width * ratio), int(height * ratio)), interpolation=cv2.INTER_LINEAR)\n",
    "    return resized_image\n",
    "    \n",
    "def extract_color_histogram(image, bins=(8, 8, 8)):\n",
    "    hsv = cv2.cvtColor(image, cv2.COLOR_BGR2HSV)\n",
    "    hist = cv2.calcHist([hsv], [0, 1, 2], None, bins, [0, 180, 0, 256, 0, 256])\n",
    "    hist = cv2.normalize(hist, hist).flatten()\n",
    "    return hist\n",
    "\n",
    "def load_img(file_path, target_size):\n",
    "    f = open(file_path)\n",
    "    lines = f.readlines()\n",
    "    imgs, lab = [], []\n",
    "    for line in lines:\n",
    "        fn, label = line.strip().split(' ')\n",
    "        image = cv2.imread(fn)\n",
    "        resized_image = resize_with_aspect_ratio(image, target_size)\n",
    "        hist = extract_color_histogram(resized_image)\n",
    "        imgs.append(hist)\n",
    "        lab.append(int(label))\n",
    "    imgs = np.asarray(imgs, np.float32)\n",
    "    lab = np.asarray(lab, np.int32)\n",
    "    return imgs, lab "
   ]
  },
  {
   "cell_type": "code",
   "execution_count": 3,
   "id": "fe8db565-15da-440a-86f3-205feb7de500",
   "metadata": {},
   "outputs": [],
   "source": [
    "dd=os.listdir('/home/blueee/DL_Homework_1/TIN')\n",
    "f1 = open('train.txt', 'w')\n",
    "f2 = open('test.txt', 'w')\n",
    "for i in range(len(dd)):\n",
    "    d2 = os.listdir ('./TIN/%s/images/'%(dd[i]))\n",
    "    for j in range(len(d2)-2):\n",
    "        str1='TIN/%s/images/%s'%(dd[i], d2[j])\n",
    "        f1.write(\"%s %d\\n\" % (str1, i))\n",
    "    str1='TIN/%s/images/%s'%(dd[i], d2[-1])\n",
    "    f2.write(\"%s %d\\n\" % (str1, i))\n",
    "\n",
    "f1.close()\n",
    "f2.close()"
   ]
  },
  {
   "cell_type": "code",
   "execution_count": 4,
   "id": "0f443c80-b499-4404-8ada-11620d93dff3",
   "metadata": {},
   "outputs": [],
   "source": [
    "target_size = (256, 256)\n",
    "x, y = load_img('train.txt', target_size)\n",
    "tx, ty = load_img('test.txt', target_size)"
   ]
  },
  {
   "cell_type": "code",
   "execution_count": 5,
   "id": "c18ea139-917b-441b-9bbe-903df3c1ac4c",
   "metadata": {},
   "outputs": [
    {
     "name": "stdout",
     "output_type": "stream",
     "text": [
      "訓練數據的圖像數據形狀: (99600, 512)\n",
      "訓練數據的標籤數據形狀: (99600,)\n",
      "測試數據的圖像數據形狀: (200, 512)\n",
      "測試數據的標籤數據形狀: (200,)\n"
     ]
    }
   ],
   "source": [
    "print(\"訓練數據的圖像數據形狀:\", x.shape)\n",
    "print(\"訓練數據的標籤數據形狀:\", y.shape)\n",
    "print(\"測試數據的圖像數據形狀:\", tx.shape)\n",
    "print(\"測試數據的標籤數據形狀:\", ty.shape)"
   ]
  },
  {
   "cell_type": "code",
   "execution_count": 6,
   "id": "aa251c90-fd7c-42d7-a45c-5d614236faf6",
   "metadata": {},
   "outputs": [
    {
     "name": "stdout",
     "output_type": "stream",
     "text": [
      "color_histogram + KNN 准确率: 0.0450\n",
      "F1分数: 0.0364\n",
      "CPU times: user 8.88 s, sys: 2.85 ms, total: 8.88 s\n",
      "Wall time: 550 ms\n"
     ]
    }
   ],
   "source": [
    "%%time\n",
    "from sklearn.model_selection import train_test_split\n",
    "from sklearn.neighbors import KNeighborsClassifier\n",
    "\n",
    "knn_classifier = KNeighborsClassifier(n_neighbors=5, algorithm='auto')\n",
    "knn_classifier.fit(x, y)\n",
    "\n",
    "y_pred = knn_classifier.predict(tx)\n",
    "\n",
    "accuracy = accuracy_score(ty, y_pred)\n",
    "f1 = f1_score(ty, y_pred, average='weighted')\n",
    "\n",
    "print(f\"color_histogram + KNN 准确率: {accuracy:.4f}\")\n",
    "print(f\"F1分数: {f1:.4f}\")"
   ]
  },
  {
   "cell_type": "code",
   "execution_count": 7,
   "id": "b9e08df1-8c7a-4e3a-acb4-f4b64b805d9c",
   "metadata": {},
   "outputs": [
    {
     "name": "stdout",
     "output_type": "stream",
     "text": [
      "color_histogram + RF准确率: 0.1150\n",
      "F1分数: 0.0752\n",
      "CPU times: user 17min 40s, sys: 18 s, total: 17min 58s\n",
      "Wall time: 29.8 s\n"
     ]
    }
   ],
   "source": [
    "%%time\n",
    "from sklearn.model_selection import train_test_split\n",
    "from sklearn.ensemble import RandomForestClassifier\n",
    "\n",
    "rf_model = RandomForestClassifier(random_state=42, n_jobs=-1)\n",
    "\n",
    "rf_model.fit(x, y)\n",
    "\n",
    "y_pred = rf_model.predict(tx)\n",
    "\n",
    "accuracy = accuracy_score(ty, y_pred)\n",
    "f1 = f1_score(ty, y_pred, average='weighted')\n",
    "\n",
    "print(f\"color_histogram + RF准确率: {accuracy:.4f}\")\n",
    "print(f\"F1分数: {f1:.4f}\")"
   ]
  },
  {
   "cell_type": "code",
   "execution_count": 8,
   "id": "2fdfddc0-b844-4e61-bbc7-292f77fd89d3",
   "metadata": {},
   "outputs": [
    {
     "name": "stdout",
     "output_type": "stream",
     "text": [
      "color_histogram + svm準確率: 0.0600\n",
      "F1分數: 0.0281\n",
      "CPU times: user 41min 24s, sys: 22.2 s, total: 41min 46s\n",
      "Wall time: 41min 45s\n"
     ]
    }
   ],
   "source": [
    "%%time\n",
    "from sklearn.model_selection import train_test_split\n",
    "\n",
    "svm_classifier = LinearSVC(C=0.8, dual=False, verbose=0)\n",
    "svm_classifier.fit(x, y)\n",
    "\n",
    "y_pred = svm_classifier.predict(tx)\n",
    "\n",
    "accuracy = accuracy_score(ty, y_pred)\n",
    "f1 = f1_score(ty, y_pred, average='weighted')\n",
    "\n",
    "print(f\"color_histogram + svm準確率: {accuracy:.4f}\")\n",
    "print(f\"F1分數: {f1:.4f}\")"
   ]
  }
 ],
 "metadata": {
  "kernelspec": {
   "display_name": "base",
   "language": "python",
   "name": "python3"
  },
  "language_info": {
   "codemirror_mode": {
    "name": "ipython",
    "version": 3
   },
   "file_extension": ".py",
   "mimetype": "text/x-python",
   "name": "python",
   "nbconvert_exporter": "python",
   "pygments_lexer": "ipython3",
   "version": "3.11.5"
  }
 },
 "nbformat": 4,
 "nbformat_minor": 5
}
